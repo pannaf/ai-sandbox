{
 "cells": [
  {
   "cell_type": "markdown",
   "metadata": {},
   "source": [
    "# Motivating Example"
   ]
  },
  {
   "cell_type": "markdown",
   "metadata": {},
   "source": [
    "Two simple functions."
   ]
  },
  {
   "cell_type": "code",
   "execution_count": 2,
   "metadata": {},
   "outputs": [
    {
     "name": "stdout",
     "output_type": "stream",
     "text": [
      "add_result 4\n",
      "multiply_result 3\n"
     ]
    }
   ],
   "source": [
    "def add(a: float, b: float) -> float:\n",
    "    result = a + b\n",
    "    return result\n",
    "\n",
    "def multiply(a: float, b: float) -> float:\n",
    "    result = a * b\n",
    "    return result\n",
    "\n",
    "add_result = add(1, 3)\n",
    "multiply_result = multiply(1, 3)\n",
    "\n",
    "print(\"add_result\", add_result)\n",
    "print(\"multiply_result\", multiply_result)"
   ]
  },
  {
   "cell_type": "markdown",
   "metadata": {},
   "source": [
    "Including some print statements for the args and return values."
   ]
  },
  {
   "cell_type": "code",
   "execution_count": 3,
   "metadata": {},
   "outputs": [
    {
     "name": "stdout",
     "output_type": "stream",
     "text": [
      "add called with args: 1, 3\n",
      "result is 4\n",
      "multiply called with args: 1, 3\n",
      "result is 3\n"
     ]
    }
   ],
   "source": [
    "def add_print(a: float, b: float) -> float:\n",
    "    print(f\"add called with args: {a}, {b}\")\n",
    "    result = a + b\n",
    "    print(f\"result is {result}\")\n",
    "    return result\n",
    "\n",
    "def multiply_print(a: float, b: float) -> float:\n",
    "    print(f\"multiply called with args: {a}, {b}\")\n",
    "    result = a * b\n",
    "    print(f\"result is {result}\")\n",
    "    return result\n",
    "\n",
    "add_result = add_print(1, 3)\n",
    "multiply_result = multiply_print(1, 3)"
   ]
  },
  {
   "cell_type": "markdown",
   "metadata": {},
   "source": [
    "## Introducing a Wrapper Function"
   ]
  },
  {
   "cell_type": "code",
   "execution_count": 5,
   "metadata": {},
   "outputs": [
    {
     "name": "stdout",
     "output_type": "stream",
     "text": [
      "add called with args: 1, 3\n",
      "result is 4\n",
      "multiply called with args: 1, 3\n",
      "result is 3\n"
     ]
    }
   ],
   "source": [
    "def print_values(func, *args, **kwargs):\n",
    "    print(f\"{func.__name__} called with args: {', '.join(map(str, args))}\")\n",
    "    result = func(*args, **kwargs)\n",
    "    print(f\"result is {result}\")\n",
    "    return result\n",
    "\n",
    "add_result = print_values(add, 1, 3)\n",
    "multiply_result = print_values(multiply, 1, 3)"
   ]
  },
  {
   "cell_type": "markdown",
   "metadata": {},
   "source": [
    "### Making the Wrapper Function More Intuitive"
   ]
  },
  {
   "cell_type": "code",
   "execution_count": 7,
   "metadata": {},
   "outputs": [
    {
     "name": "stdout",
     "output_type": "stream",
     "text": [
      "add called with args: 1, 3\n",
      "result is 4\n",
      "multiply called with args: 1, 3\n",
      "result is 3\n"
     ]
    }
   ],
   "source": [
    "def print_values(func):\n",
    "    def wrapper(*args, **kwargs):\n",
    "        print(f\"{func.__name__} called with args: {', '.join(map(str, args))}\")\n",
    "        result = func(*args, **kwargs)\n",
    "        print(f\"result is {result}\")\n",
    "        return result\n",
    "    return wrapper\n",
    "\n",
    "add_result = print_values(add)(1, 3)\n",
    "multiply_result = print_values(multiply)(1, 3)"
   ]
  },
  {
   "cell_type": "markdown",
   "metadata": {},
   "source": [
    "### Applying the Decorator"
   ]
  },
  {
   "cell_type": "code",
   "execution_count": 8,
   "metadata": {},
   "outputs": [
    {
     "name": "stdout",
     "output_type": "stream",
     "text": [
      "add called with args: 1, 3\n",
      "result is 4\n",
      "multiply called with args: 1, 3\n",
      "result is 3\n"
     ]
    }
   ],
   "source": [
    "@print_values\n",
    "def add(a: float, b: float) -> float:\n",
    "    return a + b\n",
    "\n",
    "@print_values\n",
    "def multiply(a: float, b: float) -> float:\n",
    "    return a * b\n",
    "\n",
    "add_result = add(1, 3)\n",
    "multiply_result = multiply(1, 3)"
   ]
  },
  {
   "cell_type": "code",
   "execution_count": 10,
   "metadata": {},
   "outputs": [
    {
     "name": "stdout",
     "output_type": "stream",
     "text": [
      "add called with args: 1, 3\n",
      "result is 4\n",
      "add called with args: 2, 10\n",
      "result is 12\n",
      "add called with args: -1.1, 8.8\n",
      "result is 7.700000000000001\n"
     ]
    }
   ],
   "source": [
    "add_result = add(1, 3)\n",
    "# add called with args: 1, 3\n",
    "# result is 4\n",
    "add_result = add(2, 10)\n",
    "# add called with args: 2, 10\n",
    "# result is 12\n",
    "add_result = add(-1.1, 8.8)\n",
    "# add called with args: -1.1, 8.8\n",
    "# result is 7.7"
   ]
  },
  {
   "cell_type": "markdown",
   "metadata": {},
   "source": [
    "# Additional Practice with Decorators"
   ]
  },
  {
   "cell_type": "markdown",
   "metadata": {},
   "source": [
    "## Basic Practice Questions"
   ]
  },
  {
   "cell_type": "markdown",
   "metadata": {},
   "source": [
    "Simple Decorator: `@time_it` — measures the execution time of a function and prints it."
   ]
  },
  {
   "cell_type": "code",
   "execution_count": 11,
   "metadata": {},
   "outputs": [],
   "source": [
    "# Simple Decorator: @time_it — measures the execution time of a function and prints it."
   ]
  },
  {
   "cell_type": "markdown",
   "metadata": {},
   "source": [
    "Logging Decorator: `@log_call` — logs the name of the function being called along with its arguments and return value."
   ]
  },
  {
   "cell_type": "code",
   "execution_count": 12,
   "metadata": {},
   "outputs": [],
   "source": [
    "# Logging Decorator: @log_call — logs the name of the function being called along with its arguments and return value."
   ]
  },
  {
   "cell_type": "markdown",
   "metadata": {},
   "source": [
    "Access Control: `@require_auth` — checks if a user is authenticated before allowing a function to execute. If the user is not authenticated, raise an exception."
   ]
  },
  {
   "cell_type": "code",
   "execution_count": 13,
   "metadata": {},
   "outputs": [],
   "source": [
    "# Access Control: @require_auth—checks if a user is authenticated before allowing a function to execute. If the user is not authenticated, raise an exception."
   ]
  },
  {
   "cell_type": "markdown",
   "metadata": {},
   "source": [
    "## Intermediate Practice Questions"
   ]
  },
  {
   "cell_type": "markdown",
   "metadata": {},
   "source": [
    "Cache Decorator: `@cache` — caches the results of function calls and returns the cached result when the same inputs occur again."
   ]
  },
  {
   "cell_type": "code",
   "execution_count": 14,
   "metadata": {},
   "outputs": [],
   "source": [
    "# Cache Decorator: @cache — caches the results of function calls and returns the cached result when the same inputs occur again."
   ]
  },
  {
   "cell_type": "markdown",
   "metadata": {},
   "source": [
    "Retry Mechanism: `@retry` — retries a function call a specified number of times if an exception occurs."
   ]
  },
  {
   "cell_type": "code",
   "execution_count": 15,
   "metadata": {},
   "outputs": [],
   "source": [
    "# Retry Mechanism: `@retry` — retries a function call a specified number of times if an exception occurs."
   ]
  },
  {
   "cell_type": "markdown",
   "metadata": {},
   "source": [
    "Argument Transformation: `@uppercase_args` — converts all string arguments passed to a function to uppercase before calling the function."
   ]
  },
  {
   "cell_type": "code",
   "execution_count": 16,
   "metadata": {},
   "outputs": [],
   "source": [
    "# Argument Transformation: `@uppercase_args` — converts all string arguments passed to a function to uppercase before calling the function."
   ]
  },
  {
   "cell_type": "markdown",
   "metadata": {},
   "source": [
    "## Advanced Practice Questions"
   ]
  },
  {
   "cell_type": "markdown",
   "metadata": {},
   "source": [
    "Decorator with Arguments: `@log_level(level)` — takes a log level as an argument and logs messages at the specified log level."
   ]
  },
  {
   "cell_type": "code",
   "execution_count": 19,
   "metadata": {},
   "outputs": [],
   "source": [
    "# Decorator with Arguments: `@log_level(level)` — takes a log level as an argument and logs messages at the specified log level."
   ]
  },
  {
   "cell_type": "markdown",
   "metadata": {},
   "source": [
    "Combining Decorators: Apply multiple decorators to a single function and ensure they work correctly together. For example, combine `@log_call` and `@time_it`."
   ]
  },
  {
   "cell_type": "code",
   "execution_count": 17,
   "metadata": {},
   "outputs": [],
   "source": [
    "# Combining Decorators: Apply multiple decorators to a single function and ensure they work correctly together. For example, combine `@log_call` and `@time_it`."
   ]
  },
  {
   "cell_type": "markdown",
   "metadata": {},
   "source": [
    "Class Method Decorator: `@singleton` — ensures a class only has one instance (singleton pattern)."
   ]
  },
  {
   "cell_type": "code",
   "execution_count": 18,
   "metadata": {},
   "outputs": [],
   "source": [
    "# Class Method Decorator: `@singleton` — ensures a class only has one instance (singleton pattern)."
   ]
  },
  {
   "cell_type": "markdown",
   "metadata": {},
   "source": [
    "## Real-World Scenario Questions"
   ]
  },
  {
   "cell_type": "markdown",
   "metadata": {},
   "source": [
    "Benchmarking: `@benchmark` — benchmarks the performance of different sorting algorithms and prints the time taken by each."
   ]
  },
  {
   "cell_type": "code",
   "execution_count": 22,
   "metadata": {},
   "outputs": [],
   "source": [
    "# Benchmarking: @benchmark — benchmarks the performance of different sorting algorithms and prints the time taken by each."
   ]
  },
  {
   "cell_type": "markdown",
   "metadata": {},
   "source": [
    "Role-Based Access Control: `@has_role(role)` — checks if a user has a specific role before allowing a function to execute."
   ]
  },
  {
   "cell_type": "code",
   "execution_count": 21,
   "metadata": {},
   "outputs": [],
   "source": [
    "# Role-Based Access Control: `@has_role(role)` — checks if a user has a specific role before allowing a function to execute."
   ]
  },
  {
   "cell_type": "markdown",
   "metadata": {},
   "source": [
    "Input Validation: `@validate_input(schema)` — validates the inputs of a function against a provided schema."
   ]
  },
  {
   "cell_type": "code",
   "execution_count": 23,
   "metadata": {},
   "outputs": [],
   "source": [
    "# Input Validation: @validate_input(schema) — validates the inputs of a function against a provided schema."
   ]
  }
 ],
 "metadata": {
  "kernelspec": {
   "display_name": "dna",
   "language": "python",
   "name": "python3"
  },
  "language_info": {
   "codemirror_mode": {
    "name": "ipython",
    "version": 3
   },
   "file_extension": ".py",
   "mimetype": "text/x-python",
   "name": "python",
   "nbconvert_exporter": "python",
   "pygments_lexer": "ipython3",
   "version": "3.11.8"
  }
 },
 "nbformat": 4,
 "nbformat_minor": 2
}
